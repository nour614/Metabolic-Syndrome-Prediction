{
  "nbformat": 4,
  "nbformat_minor": 0,
  "metadata": {
    "colab": {
      "provenance": [],
      "authorship_tag": "ABX9TyMdFSrTswqWS9Q7B1rFa1OD",
      "include_colab_link": true
    },
    "kernelspec": {
      "name": "python3",
      "display_name": "Python 3"
    },
    "language_info": {
      "name": "python"
    }
  },
  "cells": [
    {
      "cell_type": "markdown",
      "metadata": {
        "id": "view-in-github",
        "colab_type": "text"
      },
      "source": [
        "<a href=\"https://colab.research.google.com/github/nour614/Metabolic-Syndrome-Prediction/blob/main/Nour_Tafa_Metabolic_Syndrome_Prediction.ipynb\" target=\"_parent\"><img src=\"https://colab.research.google.com/assets/colab-badge.svg\" alt=\"Open In Colab\"/></a>"
      ]
    },
    {
      "cell_type": "markdown",
      "source": [
        "###**Metabolic Syndrome Prediction**\n"
      ],
      "metadata": {
        "id": "TtBp-TouF9yj"
      }
    },
    {
      "cell_type": "markdown",
      "source": [
        "The dataset for analysis came from the NHANES initiative where the following variables were combined from multiple tables with SQL: abnormal waist circumference, triglycerides above 150, HDL cholesterol below 50 in women or 40 in men, history of hypertension and mildly elevated fasting blood sugar (100-125). Numerous other variables were added, such as uric acid, race, income, etc. that might contribute to the model but we will not sure, until we test the model."
      ],
      "metadata": {
        "id": "k8fTaHiduxy2"
      }
    },
    {
      "cell_type": "markdown",
      "source": [
        "**Task**\n",
        "To predict metabolic syndrome, yes or not based on common risk factors"
      ],
      "metadata": {
        "id": "nUH5ZSIwxv7H"
      }
    },
    {
      "cell_type": "code",
      "source": [
        "## Pandas\n",
        "import pandas as pd\n",
        "## Numpy\n",
        "import numpy as np\n",
        "## MatplotLib\n",
        "import matplotlib.pyplot as plt\n",
        "## Seaborn\n",
        "import seaborn as sns\n",
        "\n",
        "## Preprocessing\n",
        "from sklearn.model_selection import train_test_split, GridSearchCV\n",
        "from sklearn.compose import make_column_selector \n",
        "from sklearn.preprocessing import StandardScaler, OneHotEncoder\n",
        "from sklearn.pipeline import make_pipeline\n",
        "from sklearn.compose import make_column_transformer\n",
        "from sklearn.impute import SimpleImputer, KNNImputer\n",
        "\n",
        "## Models\n",
        "from sklearn.tree import DecisionTreeClassifier\n",
        "from sklearn.neighbors import KNeighborsClassifier\n",
        "\n",
        "## Classification Metrics\n",
        "from sklearn.metrics import (roc_auc_score, ConfusionMatrixDisplay, \n",
        "                             PrecisionRecallDisplay, RocCurveDisplay, \n",
        "                             f1_score, accuracy_score, precision_score,\n",
        "                             recall_score, classification_report)\n",
        "\n",
        "## Set global scikit-learn configuration \n",
        "from sklearn import set_config\n",
        "## Display estimators as a diagram\n",
        "set_config(display='diagram') # 'text' or 'diagram'}"
      ],
      "metadata": {
        "id": "O08DAoiWGKOj"
      },
      "execution_count": 6,
      "outputs": []
    },
    {
      "cell_type": "code",
      "source": [
        "## Evaluation function\n",
        "def evluate_classification(model,X_train,X_test,y_train,y_test):\n",
        "    \"\"\"Uses model.score to display the accuracy scores for training and test splits\"\"\"\n",
        "    print(f\"Training Accuracy: {model.score(X_train, y_train):.3f}\")\n",
        "    print(f\"Test Accuracy: {model.score(X_test, y_test):.3f}\")\n"
      ],
      "metadata": {
        "id": "S-WkQD-pIyNv"
      },
      "execution_count": 7,
      "outputs": []
    },
    {
      "cell_type": "markdown",
      "source": [
        "## **1. Load and inspect the data**"
      ],
      "metadata": {
        "id": "peZnqivHHDzc"
      }
    },
    {
      "cell_type": "code",
      "source": [
        "df = pd.read_csv('/content/sample_data/Metabolic  Syndrome.csv')"
      ],
      "metadata": {
        "id": "Y6SR-OobG1FL"
      },
      "execution_count": 9,
      "outputs": []
    },
    {
      "cell_type": "code",
      "source": [
        "backup_df = df.copy()"
      ],
      "metadata": {
        "id": "yT6P_UUsHUMz"
      },
      "execution_count": 10,
      "outputs": []
    },
    {
      "cell_type": "code",
      "source": [
        "df.info()"
      ],
      "metadata": {
        "colab": {
          "base_uri": "https://localhost:8080/"
        },
        "id": "YGQFm22qHOCP",
        "outputId": "45c1c348-90ec-414f-b0dc-f0fb288569b5"
      },
      "execution_count": 11,
      "outputs": [
        {
          "output_type": "stream",
          "name": "stdout",
          "text": [
            "<class 'pandas.core.frame.DataFrame'>\n",
            "RangeIndex: 2401 entries, 0 to 2400\n",
            "Data columns (total 15 columns):\n",
            " #   Column             Non-Null Count  Dtype  \n",
            "---  ------             --------------  -----  \n",
            " 0   seqn               2401 non-null   int64  \n",
            " 1   Age                2401 non-null   int64  \n",
            " 2   Sex                2401 non-null   object \n",
            " 3   Marital            2193 non-null   object \n",
            " 4   Income             2284 non-null   float64\n",
            " 5   Race               2401 non-null   object \n",
            " 6   WaistCirc          2316 non-null   float64\n",
            " 7   BMI                2375 non-null   float64\n",
            " 8   Albuminuria        2401 non-null   int64  \n",
            " 9   UrAlbCr            2401 non-null   float64\n",
            " 10  UricAcid           2401 non-null   float64\n",
            " 11  BloodGlucose       2401 non-null   int64  \n",
            " 12  HDL                2401 non-null   int64  \n",
            " 13  Triglycerides      2401 non-null   int64  \n",
            " 14  MetabolicSyndrome  2401 non-null   object \n",
            "dtypes: float64(5), int64(6), object(4)\n",
            "memory usage: 281.5+ KB\n"
          ]
        }
      ]
    }
  ]
}